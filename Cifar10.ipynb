{
  "nbformat": 4,
  "nbformat_minor": 0,
  "metadata": {
    "colab": {
      "name": "Cifar10.ipynb",
      "provenance": [],
      "authorship_tag": "ABX9TyMeev+pYWZduQcXC5GVqvsF",
      "include_colab_link": true
    },
    "kernelspec": {
      "name": "python3",
      "display_name": "Python 3"
    },
    "language_info": {
      "name": "python"
    },
    "accelerator": "GPU"
  },
  "cells": [
    {
      "cell_type": "markdown",
      "metadata": {
        "id": "view-in-github",
        "colab_type": "text"
      },
      "source": [
        "<a href=\"https://colab.research.google.com/github/vssvprasad/DIY-FaceApp/blob/main/Cifar10.ipynb\" target=\"_parent\"><img src=\"https://colab.research.google.com/assets/colab-badge.svg\" alt=\"Open In Colab\"/></a>"
      ]
    },
    {
      "cell_type": "code",
      "metadata": {
        "id": "ud4-zcMa7s3z"
      },
      "source": [
        "import tensorflow as tf\n",
        "from tensorflow.keras import datasets, layers, models\n",
        "import matplotlib.pyplot as plt\n",
        "import numpy as np"
      ],
      "execution_count": 1,
      "outputs": []
    },
    {
      "cell_type": "code",
      "metadata": {
        "colab": {
          "base_uri": "https://localhost:8080/"
        },
        "id": "sBQ7mfgdFMbR",
        "outputId": "93cc5f69-e1f8-4221-c3ba-575f98125647"
      },
      "source": [
        "(x_train,y_train),(x_test,y_test)=datasets.cifar10.load_data()\n",
        "x_train.shape"
      ],
      "execution_count": 2,
      "outputs": [
        {
          "output_type": "stream",
          "text": [
            "Downloading data from https://www.cs.toronto.edu/~kriz/cifar-10-python.tar.gz\n",
            "170500096/170498071 [==============================] - 2s 0us/step\n"
          ],
          "name": "stdout"
        },
        {
          "output_type": "execute_result",
          "data": {
            "text/plain": [
              "(50000, 32, 32, 3)"
            ]
          },
          "metadata": {
            "tags": []
          },
          "execution_count": 2
        }
      ]
    },
    {
      "cell_type": "code",
      "metadata": {
        "colab": {
          "base_uri": "https://localhost:8080/"
        },
        "id": "U3eeB8H4HVwI",
        "outputId": "c52f164a-eaa5-4a91-dd04-fd3c1533be6b"
      },
      "source": [
        "y_train[:5] #we need 1d array"
      ],
      "execution_count": 3,
      "outputs": [
        {
          "output_type": "execute_result",
          "data": {
            "text/plain": [
              "array([[6],\n",
              "       [9],\n",
              "       [9],\n",
              "       [4],\n",
              "       [1]], dtype=uint8)"
            ]
          },
          "metadata": {
            "tags": []
          },
          "execution_count": 3
        }
      ]
    },
    {
      "cell_type": "code",
      "metadata": {
        "id": "wkmrkMY7HnOI"
      },
      "source": [
        "y_train=y_train.reshape(-1,)"
      ],
      "execution_count": 4,
      "outputs": []
    },
    {
      "cell_type": "code",
      "metadata": {
        "id": "7OfKUl4VHU3y"
      },
      "source": [
        "classes = ['airplane', 'automobile', 'bird', 'cat', 'deer', 'dog', 'frog', 'horse', 'ship', 'truck']"
      ],
      "execution_count": 5,
      "outputs": []
    },
    {
      "cell_type": "code",
      "metadata": {
        "id": "jCwNnd4xFfbZ"
      },
      "source": [
        "def plot_sample(x,y,index):\n",
        "    plt.figure(figsize=(15,2))\n",
        "    plt.imshow(x[index])\n",
        "    plt.xlabel(classes[y[index]])"
      ],
      "execution_count": 6,
      "outputs": []
    },
    {
      "cell_type": "code",
      "metadata": {
        "colab": {
          "base_uri": "https://localhost:8080/",
          "height": 173
        },
        "id": "LztNl930GABv",
        "outputId": "57834403-ca1b-4567-c617-cbef169c7e2d"
      },
      "source": [
        "plot_sample(x_train,y_train,110)"
      ],
      "execution_count": 7,
      "outputs": [
        {
          "output_type": "display_data",
          "data": {
            "image/png": "[encoded data removed]",
            "text/plain": [
              "<Figure size 1080x144 with 1 Axes>"
            ]
          },
          "metadata": {
            "tags": [],
            "needs_background": "light"
          }
        }
      ]
    },
    {
      "cell_type": "code",
      "metadata": {
        "id": "0gWVOOhvIayO"
      },
      "source": [
        "x_train= x_train/255\n",
        "x_test = x_test/255"
      ],
      "execution_count": 8,
      "outputs": []
    },
    {
      "cell_type": "code",
      "metadata": {
        "id": "bC536Na0ZPTY"
      },
      "source": [
        "# #simple ANN\n",
        "# ann = models.Sequential([\n",
        "#             layers.Flatten(input_shape = (32,32,3)),\n",
        "#             layers.Dense(3000, activation='relu'),\n",
        "#             layers.Dense(1000, activation='relu'),\n",
        "#             layers.Dense(10, activation='sigmoid')\n",
        "#             ])\n",
        "# ann.compile(optimizer= 'SGD',\n",
        "#             loss= 'sparse_categorical_crossentropy',\n",
        "#             metrics= ['accuracy'])\n",
        "# ann.fit(x_train, y_train, epochs=5)"
      ],
      "execution_count": 9,
      "outputs": []
    },
    {
      "cell_type": "code",
      "metadata": {
        "id": "isJRdPO8afp2"
      },
      "source": [
        "#cnn\n",
        "cnn = models.Sequential([\n",
        "            #cnn\n",
        "            layers.Conv2D(filters=32, kernel_size=(3,3), activation= 'relu', input_shape= (32,32,3)),\n",
        "            layers.MaxPool2D((2,2)),\n",
        "\n",
        "            layers.Conv2D(filters=64, kernel_size=(3,3), activation= 'relu'),\n",
        "            layers.MaxPool2D((2,2)),\n",
        "            #dense\n",
        "            layers.Flatten(),\n",
        "            layers.Dense(64, activation='relu'),\n",
        "            layers.Dense(10, activation='softmax')\n",
        "            ])"
      ],
      "execution_count": 10,
      "outputs": []
    },
    {
      "cell_type": "code",
      "metadata": {
        "id": "amSQoOs5drOH"
      },
      "source": [
        "cnn.compile(optimizer= 'adam',\n",
        "            loss= 'sparse_categorical_crossentropy',\n",
        "            metrics= ['accuracy'])"
      ],
      "execution_count": 11,
      "outputs": []
    },
    {
      "cell_type": "code",
      "metadata": {
        "colab": {
          "base_uri": "https://localhost:8080/"
        },
        "id": "1fm_Sts1d1Kz",
        "outputId": "08f48543-d9f1-4f2a-8d49-de0610985244"
      },
      "source": [
        "cnn.fit(x_train, y_train, epochs=50)"
      ],
      "execution_count": 13,
      "outputs": [
        {
          "output_type": "stream",
          "text": [
            "Epoch 1/50\n",
            "1563/1563 [==============================] - 5s 3ms/step - loss: 0.5738 - accuracy: 0.7996\n",
            "Epoch 2/50\n",
            "1563/1563 [==============================] - 5s 3ms/step - loss: 0.5380 - accuracy: 0.8108\n",
            "Epoch 3/50\n",
            "1563/1563 [==============================] - 5s 3ms/step - loss: 0.5098 - accuracy: 0.8215\n",
            "Epoch 4/50\n",
            "1563/1563 [==============================] - 5s 3ms/step - loss: 0.4772 - accuracy: 0.8328\n",
            "Epoch 5/50\n",
            "1563/1563 [==============================] - 5s 3ms/step - loss: 0.4529 - accuracy: 0.8392\n",
            "Epoch 6/50\n",
            "1563/1563 [==============================] - 5s 3ms/step - loss: 0.4254 - accuracy: 0.8500\n",
            "Epoch 7/50\n",
            "1563/1563 [==============================] - 5s 3ms/step - loss: 0.4003 - accuracy: 0.8578\n",
            "Epoch 8/50\n",
            "1563/1563 [==============================] - 5s 3ms/step - loss: 0.3799 - accuracy: 0.8659\n",
            "Epoch 9/50\n",
            "1563/1563 [==============================] - 5s 3ms/step - loss: 0.3519 - accuracy: 0.8754\n",
            "Epoch 10/50\n",
            "1563/1563 [==============================] - 5s 3ms/step - loss: 0.3355 - accuracy: 0.8808\n",
            "Epoch 11/50\n",
            "1563/1563 [==============================] - 5s 3ms/step - loss: 0.3168 - accuracy: 0.8875\n",
            "Epoch 12/50\n",
            "1563/1563 [==============================] - 5s 3ms/step - loss: 0.2952 - accuracy: 0.8933\n",
            "Epoch 13/50\n",
            "1563/1563 [==============================] - 5s 3ms/step - loss: 0.2844 - accuracy: 0.8975\n",
            "Epoch 14/50\n",
            "1563/1563 [==============================] - 5s 3ms/step - loss: 0.2616 - accuracy: 0.9070\n",
            "Epoch 15/50\n",
            "1563/1563 [==============================] - 5s 3ms/step - loss: 0.2508 - accuracy: 0.9098\n",
            "Epoch 16/50\n",
            "1563/1563 [==============================] - 5s 3ms/step - loss: 0.2377 - accuracy: 0.9148\n",
            "Epoch 17/50\n",
            "1563/1563 [==============================] - 5s 3ms/step - loss: 0.2240 - accuracy: 0.9187\n",
            "Epoch 18/50\n",
            "1563/1563 [==============================] - 5s 3ms/step - loss: 0.2169 - accuracy: 0.9219\n",
            "Epoch 19/50\n",
            "1563/1563 [==============================] - 5s 3ms/step - loss: 0.2035 - accuracy: 0.9266\n",
            "Epoch 20/50\n",
            "1563/1563 [==============================] - 5s 3ms/step - loss: 0.1927 - accuracy: 0.9306\n",
            "Epoch 21/50\n",
            "1563/1563 [==============================] - 5s 3ms/step - loss: 0.1806 - accuracy: 0.9349\n",
            "Epoch 22/50\n",
            "1563/1563 [==============================] - 5s 3ms/step - loss: 0.1768 - accuracy: 0.9354\n",
            "Epoch 23/50\n",
            "1563/1563 [==============================] - 5s 3ms/step - loss: 0.1723 - accuracy: 0.9383\n",
            "Epoch 24/50\n",
            "1563/1563 [==============================] - 5s 3ms/step - loss: 0.1626 - accuracy: 0.9415\n",
            "Epoch 25/50\n",
            "1563/1563 [==============================] - 5s 3ms/step - loss: 0.1607 - accuracy: 0.9416\n",
            "Epoch 26/50\n",
            "1563/1563 [==============================] - 5s 3ms/step - loss: 0.1464 - accuracy: 0.9470\n",
            "Epoch 27/50\n",
            "1563/1563 [==============================] - 5s 3ms/step - loss: 0.1466 - accuracy: 0.9469\n",
            "Epoch 28/50\n",
            "1563/1563 [==============================] - 5s 3ms/step - loss: 0.1430 - accuracy: 0.9481\n",
            "Epoch 29/50\n",
            "1563/1563 [==============================] - 5s 3ms/step - loss: 0.1315 - accuracy: 0.9528\n",
            "Epoch 30/50\n",
            "1563/1563 [==============================] - 5s 3ms/step - loss: 0.1341 - accuracy: 0.9516\n",
            "Epoch 31/50\n",
            "1563/1563 [==============================] - 5s 3ms/step - loss: 0.1272 - accuracy: 0.9543\n",
            "Epoch 32/50\n",
            "1563/1563 [==============================] - 5s 3ms/step - loss: 0.1242 - accuracy: 0.9548\n",
            "Epoch 33/50\n",
            "1563/1563 [==============================] - 5s 3ms/step - loss: 0.1277 - accuracy: 0.9545\n",
            "Epoch 34/50\n",
            "1563/1563 [==============================] - 5s 3ms/step - loss: 0.1182 - accuracy: 0.9586\n",
            "Epoch 35/50\n",
            "1563/1563 [==============================] - 5s 3ms/step - loss: 0.1134 - accuracy: 0.9599\n",
            "Epoch 36/50\n",
            "1563/1563 [==============================] - 5s 3ms/step - loss: 0.1166 - accuracy: 0.9585\n",
            "Epoch 37/50\n",
            "1563/1563 [==============================] - 5s 3ms/step - loss: 0.1077 - accuracy: 0.9613\n",
            "Epoch 38/50\n",
            "1563/1563 [==============================] - 5s 3ms/step - loss: 0.1127 - accuracy: 0.9609\n",
            "Epoch 39/50\n",
            "1563/1563 [==============================] - 5s 3ms/step - loss: 0.1130 - accuracy: 0.9599\n",
            "Epoch 40/50\n",
            "1563/1563 [==============================] - 5s 3ms/step - loss: 0.0942 - accuracy: 0.9665\n",
            "Epoch 41/50\n",
            "1563/1563 [==============================] - 5s 3ms/step - loss: 0.1094 - accuracy: 0.9613\n",
            "Epoch 42/50\n",
            "1563/1563 [==============================] - 5s 3ms/step - loss: 0.1054 - accuracy: 0.9643\n",
            "Epoch 43/50\n",
            "1563/1563 [==============================] - 5s 3ms/step - loss: 0.1007 - accuracy: 0.9658\n",
            "Epoch 44/50\n",
            "1563/1563 [==============================] - 5s 3ms/step - loss: 0.1026 - accuracy: 0.9642\n",
            "Epoch 45/50\n",
            "1563/1563 [==============================] - 5s 3ms/step - loss: 0.0947 - accuracy: 0.9673\n",
            "Epoch 46/50\n",
            "1563/1563 [==============================] - 5s 3ms/step - loss: 0.0995 - accuracy: 0.9651\n",
            "Epoch 47/50\n",
            "1563/1563 [==============================] - 5s 3ms/step - loss: 0.0901 - accuracy: 0.9688\n",
            "Epoch 48/50\n",
            "1563/1563 [==============================] - 5s 3ms/step - loss: 0.0931 - accuracy: 0.9670\n",
            "Epoch 49/50\n",
            "1563/1563 [==============================] - 5s 3ms/step - loss: 0.0918 - accuracy: 0.9692\n",
            "Epoch 50/50\n",
            "1563/1563 [==============================] - 5s 3ms/step - loss: 0.0922 - accuracy: 0.9678\n"
          ],
          "name": "stdout"
        },
        {
          "output_type": "execute_result",
          "data": {
            "text/plain": [
              "<tensorflow.python.keras.callbacks.History at 0x7fbb804ccd90>"
            ]
          },
          "metadata": {
            "tags": []
          },
          "execution_count": 13
        }
      ]
    },
    {
      "cell_type": "code",
      "metadata": {
        "colab": {
          "base_uri": "https://localhost:8080/"
        },
        "id": "K4jNpuyhd7Pg",
        "outputId": "02709f77-13de-42e2-f378-a9880d9e531d"
      },
      "source": [
        "cnn.evaluate(x_test, y_test)"
      ],
      "execution_count": 14,
      "outputs": [
        {
          "output_type": "stream",
          "text": [
            "313/313 [==============================] - 1s 2ms/step - loss: 3.4377 - accuracy: 0.6623\n"
          ],
          "name": "stdout"
        },
        {
          "output_type": "execute_result",
          "data": {
            "text/plain": [
              "[3.4377434253692627, 0.6622999906539917]"
            ]
          },
          "metadata": {
            "tags": []
          },
          "execution_count": 14
        }
      ]
    },
    {
      "cell_type": "code",
      "metadata": {
        "colab": {
          "base_uri": "https://localhost:8080/",
          "height": 173
        },
        "id": "mHOdCE1-fUvJ",
        "outputId": "38cd59ec-0c33-4472-acf2-b8b613839bcc"
      },
      "source": [
        "y_test = y_test.reshape(-1,)\n",
        "plot_sample(x_test,y_test,1)"
      ],
      "execution_count": 15,
      "outputs": [
        {
          "output_type": "display_data",
          "data": {
            "image/png": "[encoded data removed]",
            "text/plain": [
              "<Figure size 1080x144 with 1 Axes>"
            ]
          },
          "metadata": {
            "tags": [],
            "needs_background": "light"
          }
        }
      ]
    },
    {
      "cell_type": "code",
      "metadata": {
        "colab": {
          "base_uri": "https://localhost:8080/"
        },
        "id": "-LNL_xJ7fsQ7",
        "outputId": "004f897f-f278-4918-899a-d3b8850e2fe8"
      },
      "source": [
        "y_pred = cnn.predict(x_test)\n",
        "y_pred[:5]"
      ],
      "execution_count": 16,
      "outputs": [
        {
          "output_type": "execute_result",
          "data": {
            "text/plain": [
              "array([[2.91118755e-22, 4.60144560e-22, 2.16205553e-13, 9.99999285e-01,\n",
              "        1.91420701e-21, 1.80596965e-12, 2.53041965e-09, 1.42469877e-24,\n",
              "        7.12801352e-07, 2.30599642e-31],\n",
              "       [8.14405196e-21, 6.28434122e-04, 1.31502729e-31, 1.68393730e-29,\n",
              "        0.00000000e+00, 0.00000000e+00, 5.62096338e-36, 1.02440656e-30,\n",
              "        9.99371588e-01, 1.26502557e-16],\n",
              "       [3.13386699e-04, 5.99705672e-04, 6.76563416e-10, 2.37320637e-06,\n",
              "        1.18446716e-13, 2.83515420e-12, 3.40082725e-13, 1.22287673e-07,\n",
              "        9.99054015e-01, 3.03605048e-05],\n",
              "       [4.69713807e-01, 1.75195497e-10, 1.37784706e-11, 1.15694945e-06,\n",
              "        9.56754294e-12, 7.99542109e-18, 3.00229086e-09, 9.45987470e-14,\n",
              "        5.30285060e-01, 1.67622145e-15],\n",
              "       [1.96902467e-33, 8.16529393e-28, 1.55578226e-15, 1.13338274e-21,\n",
              "        1.00000000e+00, 2.87919105e-17, 1.72534573e-11, 1.90487195e-34,\n",
              "        5.02240651e-33, 3.97851867e-29]], dtype=float32)"
            ]
          },
          "metadata": {
            "tags": []
          },
          "execution_count": 16
        }
      ]
    },
    {
      "cell_type": "code",
      "metadata": {
        "id": "c1vL_7LUf2B4"
      },
      "source": [
        "y_classes= [np.argmax(element) for element in y_pred]"
      ],
      "execution_count": 17,
      "outputs": []
    },
    {
      "cell_type": "code",
      "metadata": {
        "colab": {
          "base_uri": "https://localhost:8080/"
        },
        "id": "x0Y4I0cagVwF",
        "outputId": "cd52a98c-73e9-4e2c-ecf2-cb9f1bbf6911"
      },
      "source": [
        "y_classes[:5]"
      ],
      "execution_count": 18,
      "outputs": [
        {
          "output_type": "execute_result",
          "data": {
            "text/plain": [
              "[3, 8, 8, 8, 4]"
            ]
          },
          "metadata": {
            "tags": []
          },
          "execution_count": 18
        }
      ]
    },
    {
      "cell_type": "code",
      "metadata": {
        "colab": {
          "base_uri": "https://localhost:8080/"
        },
        "id": "UcKGy6ougb6N",
        "outputId": "ecf9fabd-6741-4306-daca-b0a5ff016af1"
      },
      "source": [
        "y_test[:5]"
      ],
      "execution_count": 19,
      "outputs": [
        {
          "output_type": "execute_result",
          "data": {
            "text/plain": [
              "array([3, 8, 8, 0, 6], dtype=uint8)"
            ]
          },
          "metadata": {
            "tags": []
          },
          "execution_count": 19
        }
      ]
    },
    {
      "cell_type": "code",
      "metadata": {
        "colab": {
          "base_uri": "https://localhost:8080/"
        },
        "id": "oryCXowugewt",
        "outputId": "faad7a2d-15ed-4d28-f22f-55ed8a14d958"
      },
      "source": [
        "from sklearn.metrics import confusion_matrix, classification_report\n",
        "print('classification report:\\n', classification_report(y_test, y_classes))"
      ],
      "execution_count": 21,
      "outputs": [
        {
          "output_type": "stream",
          "text": [
            "classification report:\n",
            "               precision    recall  f1-score   support\n",
            "\n",
            "           0       0.74      0.70      0.72      1000\n",
            "           1       0.76      0.81      0.78      1000\n",
            "           2       0.55      0.56      0.56      1000\n",
            "           3       0.45      0.46      0.46      1000\n",
            "           4       0.62      0.55      0.58      1000\n",
            "           5       0.53      0.55      0.54      1000\n",
            "           6       0.69      0.78      0.73      1000\n",
            "           7       0.71      0.72      0.72      1000\n",
            "           8       0.82      0.76      0.79      1000\n",
            "           9       0.76      0.74      0.75      1000\n",
            "\n",
            "    accuracy                           0.66     10000\n",
            "   macro avg       0.66      0.66      0.66     10000\n",
            "weighted avg       0.66      0.66      0.66     10000\n",
            "\n"
          ],
          "name": "stdout"
        }
      ]
    },
    {
      "cell_type": "code",
      "metadata": {
        "colab": {
          "base_uri": "https://localhost:8080/"
        },
        "id": "xwFFJXUYg_yI",
        "outputId": "355c08bf-ffb6-4bf9-8927-fbb904c3250c"
      },
      "source": [
        "confusion_matrix(y_test,y_classes)"
      ],
      "execution_count": 22,
      "outputs": [
        {
          "output_type": "execute_result",
          "data": {
            "text/plain": [
              "array([[701,  39,  63,  27,  30,  15,  12,  17,  62,  34],\n",
              "       [ 19, 805,  12,   8,   7,  10,  15,   5,  20,  99],\n",
              "       [ 55,  11, 562,  87,  67,  75,  82,  41,  12,   8],\n",
              "       [ 21,  19,  65, 461,  75, 202,  78,  52,  16,  11],\n",
              "       [ 15,   5, 111, 100, 545,  57,  80,  70,  11,   6],\n",
              "       [ 14,   2,  84, 169,  44, 549,  47,  71,   9,  11],\n",
              "       [  6,   6,  61,  61,  33,  28, 777,  12,  12,   4],\n",
              "       [ 22,   6,  35,  56,  57,  69,  16, 722,   3,  14],\n",
              "       [ 60,  48,  15,  24,  12,  11,  10,   9, 761,  50],\n",
              "       [ 37, 115,   9,  25,   7,  20,   9,  12,  26, 740]])"
            ]
          },
          "metadata": {
            "tags": []
          },
          "execution_count": 22
        }
      ]
    },
    {
      "cell_type": "code",
      "metadata": {
        "id": "LwkWuBswmJcG"
      },
      "source": [
        ""
      ],
      "execution_count": null,
      "outputs": []
    }
  ]
}